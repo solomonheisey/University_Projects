{
 "cells": [
  {
   "cell_type": "markdown",
   "metadata": {},
   "source": [
    "# CS 1656 – Introduction to Data Science (Spring 2021) \n",
    "\n",
    "## Instructor: Xiaowei Jia / Teaching Assistant: E. Karageorgos\n",
    "\n",
    "### Additional Credits: Xiaoting Li, T. Arabghalizi, P. Pham, A. Shein, Z. Agha\n",
    "---\n",
    "In this recitation you will be learning pandas dataframe basics and plotting in Python. In the end you will see an example for NLTK that is related to your first assignment. \n",
    "\n",
    "Packages you will need are,\n",
    "* pandas\n",
    "* matplotlib\n",
    "\n",
    "First step is to import the packages above. If import fails, it means that the package is not installed and you need to install the package using \"pip install package_name\"."
   ]
  },
  {
   "cell_type": "code",
   "execution_count": 1,
   "metadata": {
    "collapsed": true
   },
   "outputs": [],
   "source": [
    "import matplotlib.pyplot as plt\n",
    "import pandas as pd\n",
    "import datetime\n",
    "import io\n",
    "import requests"
   ]
  },
  {
   "cell_type": "markdown",
   "metadata": {},
   "source": [
    "For the sake of interactive display in Jupyter, we will enable matplotlib inline."
   ]
  },
  {
   "cell_type": "code",
   "execution_count": 2,
   "metadata": {
    "collapsed": true
   },
   "outputs": [],
   "source": [
    "%matplotlib inline"
   ]
  },
  {
   "cell_type": "markdown",
   "metadata": {},
   "source": [
    "## Dataframe Basics\n",
    "\n",
    "DataFrame is a 2-dimensional labeled data structure with columns of potentially different types. You can think of it like a spreadsheet or SQL table. DataFrame accepts many different kinds of input:\n",
    "*Dict of 1D ndarrays, lists, dicts, or Series\n",
    "*2-D numpy.ndarray\n",
    "*Structured or record ndarray\n",
    "*A Series\n",
    "*Another DataFrame\n",
    "\n",
    "Along with the data, you can optionally pass index (row labels) and columns (column labels) arguments.\n",
    "\n",
    "Now what is a Series?\n",
    "Series is a one-dimensional labeled array capable of holding any data type (integers, strings, floating point numbers, Python objects, etc.). You can think of it as a 1-dimensional dataframe. Series objects can also have index. \n",
    "### Creating a Dataframe\n",
    "We will start off by creating  a dataframe from Weather Undergraound Data retreived from the url below."
   ]
  },
  {
   "cell_type": "code",
   "execution_count": 3,
   "metadata": {},
   "outputs": [
    {
     "name": "stderr",
     "output_type": "stream",
     "text": [
      "C:\\Users\\solhe\\miniconda3\\envs\\cs1656\\lib\\site-packages\\urllib3\\connectionpool.py:1013: InsecureRequestWarning: Unverified HTTPS request is being made to host 'db.cs.pitt.edu'. Adding certificate verification is strongly advised. See: https://urllib3.readthedocs.io/en/latest/advanced-usage.html#ssl-warnings\n",
      "  warnings.warn(\n"
     ]
    }
   ],
   "source": [
    "r = io.StringIO(requests.get('http://data.cs1656.org/KPIT_Aug17.csv', verify=False).content.decode('utf-8'))\n",
    "df = pd.read_csv(r,\\\n",
    "                       sep=',', engine='python', parse_dates=['EST'])"
   ]
  },
  {
   "cell_type": "markdown",
   "metadata": {},
   "source": [
    "To display the top 'n' rows of the dataframe, use the head() command below. The default is 5 rows."
   ]
  },
  {
   "cell_type": "code",
   "execution_count": 4,
   "metadata": {},
   "outputs": [
    {
     "data": {
      "text/html": [
       "<div>\n",
       "<style scoped>\n",
       "    .dataframe tbody tr th:only-of-type {\n",
       "        vertical-align: middle;\n",
       "    }\n",
       "\n",
       "    .dataframe tbody tr th {\n",
       "        vertical-align: top;\n",
       "    }\n",
       "\n",
       "    .dataframe thead th {\n",
       "        text-align: right;\n",
       "    }\n",
       "</style>\n",
       "<table border=\"1\" class=\"dataframe\">\n",
       "  <thead>\n",
       "    <tr style=\"text-align: right;\">\n",
       "      <th></th>\n",
       "      <th>EST</th>\n",
       "      <th>Max TemperatureF</th>\n",
       "      <th>Mean TemperatureF</th>\n",
       "      <th>Min TemperatureF</th>\n",
       "      <th>Max Dew PointF</th>\n",
       "      <th>MeanDew PointF</th>\n",
       "      <th>Min DewpointF</th>\n",
       "      <th>Max Humidity</th>\n",
       "      <th>Mean Humidity</th>\n",
       "      <th>Min Humidity</th>\n",
       "      <th>...</th>\n",
       "      <th>Mean Sea Level Press.</th>\n",
       "      <th>Min Sea Level Press.</th>\n",
       "      <th>Max VisibilityMiles</th>\n",
       "      <th>Mean VisibilityMiles</th>\n",
       "      <th>Min VisibilityMiles</th>\n",
       "      <th>Max Wind SpeedMPH</th>\n",
       "      <th>Mean Wind SpeedMPH</th>\n",
       "      <th>Min Wind SpeedMPH</th>\n",
       "      <th>PrecipitationIn</th>\n",
       "      <th>Events</th>\n",
       "    </tr>\n",
       "  </thead>\n",
       "  <tbody>\n",
       "    <tr>\n",
       "      <th>0</th>\n",
       "      <td>2017-08-01</td>\n",
       "      <td>84</td>\n",
       "      <td>73</td>\n",
       "      <td>62</td>\n",
       "      <td>65</td>\n",
       "      <td>61</td>\n",
       "      <td>58</td>\n",
       "      <td>93</td>\n",
       "      <td>67</td>\n",
       "      <td>40</td>\n",
       "      <td>...</td>\n",
       "      <td>30.12</td>\n",
       "      <td>30.07</td>\n",
       "      <td>10</td>\n",
       "      <td>10</td>\n",
       "      <td>10</td>\n",
       "      <td>12</td>\n",
       "      <td>3</td>\n",
       "      <td>16</td>\n",
       "      <td>0</td>\n",
       "      <td>NaN</td>\n",
       "    </tr>\n",
       "    <tr>\n",
       "      <th>1</th>\n",
       "      <td>2017-08-02</td>\n",
       "      <td>84</td>\n",
       "      <td>75</td>\n",
       "      <td>65</td>\n",
       "      <td>66</td>\n",
       "      <td>64</td>\n",
       "      <td>60</td>\n",
       "      <td>93</td>\n",
       "      <td>70</td>\n",
       "      <td>47</td>\n",
       "      <td>...</td>\n",
       "      <td>30.08</td>\n",
       "      <td>30.04</td>\n",
       "      <td>10</td>\n",
       "      <td>10</td>\n",
       "      <td>10</td>\n",
       "      <td>13</td>\n",
       "      <td>3</td>\n",
       "      <td>16</td>\n",
       "      <td>0</td>\n",
       "      <td>NaN</td>\n",
       "    </tr>\n",
       "    <tr>\n",
       "      <th>2</th>\n",
       "      <td>2017-08-03</td>\n",
       "      <td>84</td>\n",
       "      <td>75</td>\n",
       "      <td>65</td>\n",
       "      <td>66</td>\n",
       "      <td>64</td>\n",
       "      <td>62</td>\n",
       "      <td>93</td>\n",
       "      <td>71</td>\n",
       "      <td>48</td>\n",
       "      <td>...</td>\n",
       "      <td>30.07</td>\n",
       "      <td>30.01</td>\n",
       "      <td>10</td>\n",
       "      <td>10</td>\n",
       "      <td>10</td>\n",
       "      <td>14</td>\n",
       "      <td>5</td>\n",
       "      <td>17</td>\n",
       "      <td>0</td>\n",
       "      <td>NaN</td>\n",
       "    </tr>\n",
       "    <tr>\n",
       "      <th>3</th>\n",
       "      <td>2017-08-04</td>\n",
       "      <td>83</td>\n",
       "      <td>73</td>\n",
       "      <td>62</td>\n",
       "      <td>68</td>\n",
       "      <td>65</td>\n",
       "      <td>58</td>\n",
       "      <td>90</td>\n",
       "      <td>73</td>\n",
       "      <td>55</td>\n",
       "      <td>...</td>\n",
       "      <td>29.93</td>\n",
       "      <td>29.82</td>\n",
       "      <td>10</td>\n",
       "      <td>9</td>\n",
       "      <td>2</td>\n",
       "      <td>32</td>\n",
       "      <td>9</td>\n",
       "      <td>39</td>\n",
       "      <td>0.41</td>\n",
       "      <td>Rain , Thunderstorm</td>\n",
       "    </tr>\n",
       "    <tr>\n",
       "      <th>4</th>\n",
       "      <td>2017-08-05</td>\n",
       "      <td>74</td>\n",
       "      <td>66</td>\n",
       "      <td>58</td>\n",
       "      <td>61</td>\n",
       "      <td>54</td>\n",
       "      <td>49</td>\n",
       "      <td>87</td>\n",
       "      <td>68</td>\n",
       "      <td>49</td>\n",
       "      <td>...</td>\n",
       "      <td>30.04</td>\n",
       "      <td>29.94</td>\n",
       "      <td>10</td>\n",
       "      <td>10</td>\n",
       "      <td>10</td>\n",
       "      <td>15</td>\n",
       "      <td>10</td>\n",
       "      <td>22</td>\n",
       "      <td>T</td>\n",
       "      <td>NaN</td>\n",
       "    </tr>\n",
       "  </tbody>\n",
       "</table>\n",
       "<p>5 rows × 21 columns</p>\n",
       "</div>"
      ],
      "text/plain": [
       "         EST  Max TemperatureF  Mean TemperatureF  Min TemperatureF  \\\n",
       "0 2017-08-01                84                 73                62   \n",
       "1 2017-08-02                84                 75                65   \n",
       "2 2017-08-03                84                 75                65   \n",
       "3 2017-08-04                83                 73                62   \n",
       "4 2017-08-05                74                 66                58   \n",
       "\n",
       "   Max Dew PointF  MeanDew PointF  Min DewpointF  Max Humidity  Mean Humidity  \\\n",
       "0              65              61             58            93             67   \n",
       "1              66              64             60            93             70   \n",
       "2              66              64             62            93             71   \n",
       "3              68              65             58            90             73   \n",
       "4              61              54             49            87             68   \n",
       "\n",
       "   Min Humidity  ...  Mean Sea Level Press.  Min Sea Level Press.  \\\n",
       "0            40  ...                  30.12                 30.07   \n",
       "1            47  ...                  30.08                 30.04   \n",
       "2            48  ...                  30.07                 30.01   \n",
       "3            55  ...                  29.93                 29.82   \n",
       "4            49  ...                  30.04                 29.94   \n",
       "\n",
       "   Max VisibilityMiles  Mean VisibilityMiles  Min VisibilityMiles  \\\n",
       "0                   10                    10                   10   \n",
       "1                   10                    10                   10   \n",
       "2                   10                    10                   10   \n",
       "3                   10                     9                    2   \n",
       "4                   10                    10                   10   \n",
       "\n",
       "   Max Wind SpeedMPH  Mean Wind SpeedMPH  Min Wind SpeedMPH  PrecipitationIn  \\\n",
       "0                 12                   3                 16                0   \n",
       "1                 13                   3                 16                0   \n",
       "2                 14                   5                 17                0   \n",
       "3                 32                   9                 39             0.41   \n",
       "4                 15                  10                 22                T   \n",
       "\n",
       "                Events  \n",
       "0                  NaN  \n",
       "1                  NaN  \n",
       "2                  NaN  \n",
       "3  Rain , Thunderstorm  \n",
       "4                  NaN  \n",
       "\n",
       "[5 rows x 21 columns]"
      ]
     },
     "execution_count": 4,
     "metadata": {},
     "output_type": "execute_result"
    }
   ],
   "source": [
    "df.head()"
   ]
  },
  {
   "cell_type": "markdown",
   "metadata": {},
   "source": [
    "Now to find all the column names of the dataframe and their data types, type the following command."
   ]
  },
  {
   "cell_type": "code",
   "execution_count": 5,
   "metadata": {},
   "outputs": [
    {
     "data": {
      "text/plain": [
       "EST                      datetime64[ns]\n",
       "Max TemperatureF                  int64\n",
       "Mean TemperatureF                 int64\n",
       "Min TemperatureF                  int64\n",
       "Max Dew PointF                    int64\n",
       "MeanDew PointF                    int64\n",
       "Min DewpointF                     int64\n",
       "Max Humidity                      int64\n",
       "Mean Humidity                     int64\n",
       "Min Humidity                      int64\n",
       "Max Sea Level Press.            float64\n",
       "Mean Sea Level Press.           float64\n",
       "Min Sea Level Press.            float64\n",
       "Max VisibilityMiles               int64\n",
       "Mean VisibilityMiles              int64\n",
       "Min VisibilityMiles               int64\n",
       "Max Wind SpeedMPH                 int64\n",
       "Mean Wind SpeedMPH                int64\n",
       "Min Wind SpeedMPH                 int64\n",
       "PrecipitationIn                  object\n",
       "Events                           object\n",
       "dtype: object"
      ]
     },
     "execution_count": 5,
     "metadata": {},
     "output_type": "execute_result"
    }
   ],
   "source": [
    "df.dtypes"
   ]
  },
  {
   "cell_type": "markdown",
   "metadata": {},
   "source": [
    "Notice the type of 'EST' column. We will find out why that's relevant a few steps later.\n",
    "### Accessing Dataframe Columns\n",
    "There are two ways to access a dataframe column. \n",
    "The first way is accessing it like a dictionary as shown below. We will be using head function to show the first few rows only."
   ]
  },
  {
   "cell_type": "code",
   "execution_count": 6,
   "metadata": {},
   "outputs": [
    {
     "data": {
      "text/plain": [
       "0   2017-08-01\n",
       "1   2017-08-02\n",
       "2   2017-08-03\n",
       "3   2017-08-04\n",
       "4   2017-08-05\n",
       "Name: EST, dtype: datetime64[ns]"
      ]
     },
     "execution_count": 6,
     "metadata": {},
     "output_type": "execute_result"
    }
   ],
   "source": [
    "df['EST'].head()"
   ]
  },
  {
   "cell_type": "markdown",
   "metadata": {},
   "source": [
    "The second way is to access using dot. But this only works if the column name is a valid variable name without any spacing."
   ]
  },
  {
   "cell_type": "code",
   "execution_count": 7,
   "metadata": {},
   "outputs": [
    {
     "data": {
      "text/plain": [
       "0   2017-08-01\n",
       "1   2017-08-02\n",
       "2   2017-08-03\n",
       "3   2017-08-04\n",
       "4   2017-08-05\n",
       "Name: EST, dtype: datetime64[ns]"
      ]
     },
     "execution_count": 7,
     "metadata": {},
     "output_type": "execute_result"
    }
   ],
   "source": [
    "df.EST.head()"
   ]
  },
  {
   "cell_type": "markdown",
   "metadata": {},
   "source": [
    "You can also access multiple columns by passing list of column names."
   ]
  },
  {
   "cell_type": "code",
   "execution_count": null,
   "metadata": {
    "pycharm": {
     "is_executing": true
    }
   },
   "outputs": [],
   "source": [
    "df[['EST','Mean TemperatureF']].head()"
   ]
  },
  {
   "cell_type": "markdown",
   "metadata": {},
   "source": [
    "---\n",
    "## Plotting\n",
    "### Basic Plot"
   ]
  },
  {
   "cell_type": "markdown",
   "metadata": {},
   "source": [
    "Now lets start with basic plotting in Python first. We will use the plot function. Note that plot returns a tuple of handle and labels. If you need the plot handle in the future you will assign a variable to the plot function's return value."
   ]
  },
  {
   "cell_type": "code",
   "execution_count": null,
   "metadata": {
    "pycharm": {
     "is_executing": true
    }
   },
   "outputs": [],
   "source": [
    "p1 = plt.plot(df['EST'],df['MeanDew PointF'])\n",
    "p2 = plt.plot(df['EST'],df['Mean TemperatureF'])\n",
    "plt.legend([p1[0],p2[0]], ['Mean Dew Point', 'Mean Temperature'])\n",
    "\n",
    "plt.show()"
   ]
  },
  {
   "cell_type": "markdown",
   "metadata": {},
   "source": [
    "That does not look too pretty. Let's format the graph and plot again. "
   ]
  },
  {
   "cell_type": "code",
   "execution_count": null,
   "metadata": {
    "pycharm": {
     "is_executing": true
    }
   },
   "outputs": [],
   "source": [
    "# Initializing a larger figure\n",
    "fig = plt.figure(figsize=(10, 6))\n",
    "\n",
    "# PLotting\n",
    "p1 = plt.plot(df['EST'],df['MeanDew PointF'])\n",
    "p2 = plt.plot(df['EST'],df['Mean TemperatureF'])\n",
    "plt.legend([p1[0],p2[0]], ['Mean Dew Point', 'Mean Temperature'])\n",
    "\n",
    "# Formatting graph\n",
    "plt.xticks(rotation = 90, fontsize = 8)\n",
    "plt.xlabel('Date')\n",
    "plt.ylabel('Mean Temperature')\n",
    "plt.title('Mean Tempertaures for August 2017')\n",
    "\n",
    "# Are we ready to show the formatted graph now? Not yet. Because we want\n",
    "# to save our graph figure this time.In order to use the save command, it\n",
    "# is important to save before the show command because the show command\n",
    "# clears the axis of the figure after displaying.\n",
    "\n",
    "plt.savefig(\"basic_plot.png\")\n",
    "plt.show()"
   ]
  },
  {
   "cell_type": "markdown",
   "metadata": {},
   "source": [
    "### Bar Plot"
   ]
  },
  {
   "cell_type": "code",
   "execution_count": null,
   "metadata": {
    "pycharm": {
     "is_executing": true
    },
    "scrolled": false
   },
   "outputs": [],
   "source": [
    "fig = plt.figure(figsize=(10, 6))\n",
    "#plt.bar(df['EST'],df['Mean Humidity'], align = 'center') # doesn't guarantee proper ordering\n",
    "plt.bar(range(len(df['EST'])),df['Mean Humidity'], align = 'center')\n",
    "\n",
    "# Formatting graph\n",
    "plt.xticks(range(len(df['EST'])), df['EST'].dt.strftime('%Y-%m-%d'),\\\n",
    "               rotation = 90, fontsize = 8)\n",
    "plt.xlabel('Date')\n",
    "plt.ylabel('Mean Humidity')\n",
    "plt.title('Mean Humidity for August 2017')\n",
    "\n",
    "plt.savefig(\"bar_plot.png\")\n",
    "plt.show()"
   ]
  },
  {
   "cell_type": "markdown",
   "metadata": {},
   "source": [
    "Now, lets try to plot the two graphs above on the same figure using subplots. The code for plotting is the same as that shown above. "
   ]
  },
  {
   "cell_type": "code",
   "execution_count": null,
   "metadata": {
    "pycharm": {
     "is_executing": true
    }
   },
   "outputs": [],
   "source": [
    "fig = plt.figure(figsize=(10, 16))\n",
    "\n",
    "# Subplot of basic graph\n",
    "plt.subplot(211)\n",
    "p1 = plt.plot(df['EST'],df['MeanDew PointF'])\n",
    "p2 = plt.plot(df['EST'],df['Mean TemperatureF'])\n",
    "plt.legend([p1[0],p2[0]], ['Mean Dew Point', 'Mean Temperature'])\n",
    "\n",
    "plt.xticks(rotation = 90, fontsize = 8)\n",
    "plt.xlabel('Date')\n",
    "plt.ylabel('Mean Temperature')\n",
    "plt.title('Mean Tempertaures for August 2017')\n",
    "\n",
    "# Subplot of bar graph graph\n",
    "plt.subplot(212)\n",
    "plt.bar(range(len(df['EST'])),df['Mean Humidity'], align = 'center')\n",
    "\n",
    "plt.xticks(range(len(df['EST'])), df['EST'].dt.strftime('%Y-%m-%d'),\\\n",
    "               rotation = 90, fontsize = 8)\n",
    "plt.xlabel('Date')\n",
    "plt.ylabel('Mean Humidity')\n",
    "plt.title('Mean Humidity for August 2017')\n",
    "\n",
    "plt.savefig(\"subplot_basic_bar.png\")\n",
    "plt.show()"
   ]
  },
  {
   "cell_type": "markdown",
   "metadata": {},
   "source": [
    "What is the advantage of subplots? It allows us to establish relationships between different variables and different statistics. Looking at the two subplots above, do you notice any relationship?\n",
    "\n",
    "### Scatter Plot\n",
    "Scatter plots are commonly used to show correlation between variables. If the data points make a straight line going from the origin out to high x and high y values, then the variables are said to have a positive correlation. If the line goes from a high value on the y-axis down to a high value on the x-axis, the variables have a negative correlation. The closer the data points in the scatter plot, the higher the correlation between the two variables, or the stronger the relationship."
   ]
  },
  {
   "cell_type": "code",
   "execution_count": null,
   "metadata": {
    "pycharm": {
     "is_executing": true
    }
   },
   "outputs": [],
   "source": [
    "fig = plt.figure(figsize=(10, 6))\n",
    "\n",
    "plt.scatter(df['Max TemperatureF'],df['Min TemperatureF'])\n",
    "\n",
    "# Formatting graph\n",
    "plt.xlabel('Max Temperture')\n",
    "plt.ylabel('Min Temperature')\n",
    "plt.title('Min and Max Temperature for August 2017')\n",
    "\n",
    "plt.savefig(\"scatter_plot.png\")\n",
    "plt.show()"
   ]
  },
  {
   "cell_type": "markdown",
   "metadata": {},
   "source": [
    "The graph above shows us that min and max temperature have a strong positive correlation."
   ]
  },
  {
   "cell_type": "markdown",
   "metadata": {},
   "source": [
    "# NLTK and Stemming:\n",
    "Stemming usually refers to a crude heuristic process that chops off the ends of words in the hope of achieving this goal \n",
    "correctly most of the time, and often includes the removal of derivational affixes.  "
   ]
  },
  {
   "cell_type": "code",
   "execution_count": null,
   "metadata": {
    "pycharm": {
     "is_executing": true
    }
   },
   "outputs": [],
   "source": [
    "import nltk\n",
    "nltk.download('punkt')\n",
    "mysentence = \"\"\"During a manned mission to Mars, Astronaut Mark Watney \n",
    "            (Matt Damon) is presumed dead after a fierce storm and left behind \n",
    "            by his crew.But Watney has survived and finds himself stranded and alone on the hostile planet.\"\"\"\n",
    "\n",
    "mysentencetokens = nltk.word_tokenize(mysentence)\n",
    "#Stemming\n",
    "porter = nltk.PorterStemmer()\n",
    "looper = 0\n",
    "for token in mysentencetokens:\n",
    "        mysentencetokens[looper] = porter.stem(token)\n",
    "        looper += 1\n",
    "print (\"Stemmed -->\")\n",
    "print (mysentencetokens)"
   ]
  },
  {
   "cell_type": "markdown",
   "metadata": {},
   "source": [
    "## Tasks\n",
    "For your tasks, the input file is available at http://data.cs1656.org/top12cities.csv. The file consists of population density estimates and land area of several cities in USA.\n",
    "\n",
    "You need to read the file into a dataframe and perform the following three tasks during the lab. "
   ]
  },
  {
   "cell_type": "markdown",
   "metadata": {},
   "source": []
  },
  {
   "cell_type": "code",
   "execution_count": null,
   "metadata": {
    "pycharm": {
     "is_executing": true,
     "name": "#%%\n"
    }
   },
   "outputs": [],
   "source": [
    "import io\n",
    "import pandas as pd\n",
    "import requests\n",
    "\n",
    "t = io.StringIO(requests.get('http://data.cs1656.org/top12cities.csv', verify=False).content.decode('utf-8'))\n",
    "dataframe = pd.read_csv(t,\n",
    "                       sep=',', engine='python')"
   ]
  },
  {
   "cell_type": "markdown",
   "metadata": {
    "pycharm": {
     "name": "#%% md\n"
    }
   },
   "source": [
    "**Task 1** \n",
    "\n",
    "Plot a scatter plot of with 'land area' on the x-axis and '2014 estimate' on the y-axis. After observing the plot, do you think the two variables are strongly or weakly correlated? Is the correlation positive or negative?"
   ]
  },
  {
   "cell_type": "code",
   "execution_count": 19,
   "metadata": {
    "pycharm": {
     "is_executing": true
    }
   },
   "outputs": [
    {
     "data": {
      "image/png": "[encoded data removed]",
      "text/plain": [
       "<Figure size 720x432 with 1 Axes>"
      ]
     },
     "metadata": {
      "needs_background": "light"
     },
     "output_type": "display_data"
    }
   ],
   "source": [
    "import matplotlib.pyplot as plt\n",
    "\n",
    "fig = plt.figure(figsize=(10, 6))\n",
    "plt.scatter(dataframe['2014 land area'],dataframe['2014 estimate'])\n",
    "\n",
    "# Formatting graph\n",
    "plt.xlabel('City land area')\n",
    "plt.xticks(rotation=45, fontsize=8)\n",
    "plt.ticklabel_format(style='plain')\n",
    "plt.ylabel('City population')\n",
    "\n",
    "for i, label in enumerate(dataframe['City']):\n",
    "    plt.annotate(label, (dataframe['2014 land area'][i], dataframe['2014 estimate'][i]))\n",
    "plt.title('Correlation between the land area of the city and its estimated population in 2014')\n",
    "\n",
    "plt.savefig(\"task1.png\")\n",
    "plt.show()"
   ]
  },
  {
   "cell_type": "markdown",
   "metadata": {},
   "source": [
    "**Task 2**\n",
    "\n",
    "Plot a bar plot showing each city's 2014 population estimate given by '2014 estimate' column. "
   ]
  },
  {
   "cell_type": "code",
   "execution_count": 20,
   "metadata": {
    "pycharm": {
     "is_executing": true
    }
   },
   "outputs": [
    {
     "name": "stderr",
     "output_type": "stream",
     "text": [
      "C:\\Users\\solhe\\miniconda3\\envs\\cs1656\\lib\\site-packages\\urllib3\\connectionpool.py:1013: InsecureRequestWarning: Unverified HTTPS request is being made to host 'db.cs.pitt.edu'. Adding certificate verification is strongly advised. See: https://urllib3.readthedocs.io/en/latest/advanced-usage.html#ssl-warnings\n",
      "  warnings.warn(\n"
     ]
    },
    {
     "data": {
      "image/png": "[encoded data removed]",
      "text/plain": [
       "<Figure size 720x432 with 1 Axes>"
      ]
     },
     "metadata": {
      "needs_background": "light"
     },
     "output_type": "display_data"
    }
   ],
   "source": [
    "import matplotlib.pyplot as plt\n",
    "import io\n",
    "import pandas as pd\n",
    "import requests\n",
    "\n",
    "t = io.StringIO(requests.get('http://data.cs1656.org/top12cities.csv', verify=False).content.decode('utf-8'))\n",
    "dataframe = pd.read_csv(t,\n",
    "                       sep=',', engine='python')\n",
    "\n",
    "fig = plt.figure(figsize=(10, 6))\n",
    "#plt.bar(df['EST'],df['Mean Humidity'], align = 'center') # doesn't guarantee proper ordering\n",
    "plt.bar(range(len(dataframe['City'])),dataframe['2014 estimate'], align = 'center')\n",
    "plt.ticklabel_format(style='plain')\n",
    "# Formatting graph\n",
    "plt.xticks(range(len(dataframe['City'])), dataframe['City'],\n",
    "               rotation = 45, fontsize = 8)\n",
    "\n",
    "plt.xlabel('City')\n",
    "plt.ylabel('Population')\n",
    "plt.title('City population estimate in 2014')\n",
    "\n",
    "plt.savefig(\"Task2.png\")\n",
    "plt.show()"
   ]
  },
  {
   "cell_type": "markdown",
   "metadata": {},
   "source": [
    "**Task 3** \n",
    "\n",
    "Now that you plotted a simple bar plot, try plotting a grouped bar plot that shows both 2010 and 2014 estimate for each city on the same plot. This means that there will be two grouped bars per city on your graph. \n"
   ]
  },
  {
   "cell_type": "code",
   "execution_count": 21,
   "metadata": {
    "pycharm": {
     "is_executing": true
    }
   },
   "outputs": [
    {
     "name": "stderr",
     "output_type": "stream",
     "text": [
      "C:\\Users\\solhe\\miniconda3\\envs\\cs1656\\lib\\site-packages\\urllib3\\connectionpool.py:1013: InsecureRequestWarning: Unverified HTTPS request is being made to host 'db.cs.pitt.edu'. Adding certificate verification is strongly advised. See: https://urllib3.readthedocs.io/en/latest/advanced-usage.html#ssl-warnings\n",
      "  warnings.warn(\n"
     ]
    },
    {
     "data": {
      "image/png": "[encoded data removed]",
      "text/plain": [
       "<Figure size 720x432 with 1 Axes>"
      ]
     },
     "metadata": {
      "needs_background": "light"
     },
     "output_type": "display_data"
    }
   ],
   "source": [
    "import matplotlib.pyplot as plt\n",
    "import io\n",
    "import requests\n",
    "import pandas as pd\n",
    "\n",
    "t = io.StringIO(requests.get('http://data.cs1656.org/top12cities.csv', verify=False).content.decode('utf-8'))\n",
    "dataframe = pd.read_csv(t,\n",
    "                       sep=',', engine='python')\n",
    "\n",
    "fig = plt.figure(figsize=(10, 6))\n",
    "#plt.bar(df['EST'],df['Mean Humidity'], align = 'center') # doesn't guarantee proper ordering\n",
    "d2 = [i+0.4 for i in range(len(dataframe['City']))]\n",
    "p1 = plt.bar(range(len(dataframe['City'])),dataframe['2014 estimate'], 0.4, label='2014', color='r')\n",
    "p2 = plt.bar(d2, dataframe['2010 Census'], 0.4,  label='2010', color='b')\n",
    "plt.ticklabel_format(style='plain')\n",
    "plt.legend()\n",
    "# Formatting graph\n",
    "plt.xticks(range(len(dataframe['City'])), dataframe['City'],\n",
    "               rotation = 45, fontsize = 8)\n",
    "\n",
    "plt.xlabel('City')\n",
    "plt.ylabel('Population')\n",
    "plt.title('2014 vs 2010 City Population')\n",
    "\n",
    "plt.savefig(\"Task3.png\")\n",
    "plt.show()"
   ]
  },
  {
   "cell_type": "code",
   "execution_count": null,
   "outputs": [],
   "source": [],
   "metadata": {
    "collapsed": false,
    "pycharm": {
     "name": "#%%\n"
    }
   }
  },
  {
   "cell_type": "code",
   "execution_count": null,
   "metadata": {},
   "outputs": [],
   "source": []
  }
 ],
 "metadata": {
  "anaconda-cloud": {},
  "kernelspec": {
   "display_name": "Python 3",
   "language": "python",
   "name": "python3"
  },
  "language_info": {
   "codemirror_mode": {
    "name": "ipython",
    "version": 3
   },
   "file_extension": ".py",
   "mimetype": "text/x-python",
   "name": "python",
   "nbconvert_exporter": "python",
   "pygments_lexer": "ipython3",
   "version": "3.8.5"
  }
 },
 "nbformat": 4,
 "nbformat_minor": 2
}