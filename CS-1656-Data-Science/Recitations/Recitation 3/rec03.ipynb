{
 "cells": [
  {
   "cell_type": "markdown",
   "metadata": {},
   "source": [
    "# CS 1656 – Introduction to Data Science\n",
    "\n",
    "## Instructor: Xiaowei Jia / Teaching Assistant: Evangelos Karageorgos\n",
    "### Additional credits: Xiaoting Li, Tahereh Arabghalizi, Zuha Agha, Anatoli Shein, Phuong Pham\n",
    "## Recitation 7: Data Analysis with Pandas\n",
    "---\n",
    "So far we have encountered basic data manipulation with pandas Dataframes including row and column selection, boolean indexing, working with missing values, groupby and aggregate functions such as mean(). But there are many other powerful data manipulation and analysis techniques available in pandas. In this recitation, we will learn some more advanced ways for data anylsis in Python using Dataframes. \n",
    "\n",
    "Begin by importing pandas package."
   ]
  },
  {
   "cell_type": "code",
   "execution_count": 47,
   "metadata": {
    "collapsed": true
   },
   "outputs": [],
   "source": [
    "import pandas as pd"
   ]
  },
  {
   "cell_type": "markdown",
   "metadata": {},
   "source": [
    "Next load the dataset that we will be playing arround with."
   ]
  },
  {
   "cell_type": "code",
   "execution_count": 48,
   "metadata": {},
   "outputs": [
    {
     "data": {
      "text/plain": "   Area Code Market   Market Size            Product Product Line  \\\n0        985  South  Small Market          Colombian        Beans   \n1        985  South  Small Market          Chamomile       Leaves   \n2        985  South  Small Market          Chamomile       Leaves   \n3        985  South  Small Market  Decaf Irish Cream        Beans   \n4        985  South  Small Market              Lemon       Leaves   \n\n  Product Type      State     Type  Inventory  Budget COGS  Budget Margin  \\\n0       Coffee  Louisiana  Regular        845           50             90   \n1   Herbal Tea  Louisiana    Decaf        540           80            110   \n2   Herbal Tea  Louisiana    Decaf        552           90            120   \n3       Coffee  Louisiana    Decaf        851           70             90   \n4   Herbal Tea  Louisiana    Decaf        599           60             80   \n\n   Budget Profit  Budget Sales  COGS  Margin  Marketing  Profit  Sales  \\\n0             70           140    49      71         13      68    128   \n1             70           190    94     120         31     114    228   \n2             80           210   101     130         33     126    246   \n3             80           160    48      70         13      67    126   \n4             30           140    67      83         25      37    160   \n\n   Total Expenses  \n0              25  \n1              43  \n2              45  \n3              25  \n4              58  ",
      "text/html": "<div>\n<style scoped>\n    .dataframe tbody tr th:only-of-type {\n        vertical-align: middle;\n    }\n\n    .dataframe tbody tr th {\n        vertical-align: top;\n    }\n\n    .dataframe thead th {\n        text-align: right;\n    }\n</style>\n<table border=\"1\" class=\"dataframe\">\n  <thead>\n    <tr style=\"text-align: right;\">\n      <th></th>\n      <th>Area Code</th>\n      <th>Market</th>\n      <th>Market Size</th>\n      <th>Product</th>\n      <th>Product Line</th>\n      <th>Product Type</th>\n      <th>State</th>\n      <th>Type</th>\n      <th>Inventory</th>\n      <th>Budget COGS</th>\n      <th>Budget Margin</th>\n      <th>Budget Profit</th>\n      <th>Budget Sales</th>\n      <th>COGS</th>\n      <th>Margin</th>\n      <th>Marketing</th>\n      <th>Profit</th>\n      <th>Sales</th>\n      <th>Total Expenses</th>\n    </tr>\n  </thead>\n  <tbody>\n    <tr>\n      <th>0</th>\n      <td>985</td>\n      <td>South</td>\n      <td>Small Market</td>\n      <td>Colombian</td>\n      <td>Beans</td>\n      <td>Coffee</td>\n      <td>Louisiana</td>\n      <td>Regular</td>\n      <td>845</td>\n      <td>50</td>\n      <td>90</td>\n      <td>70</td>\n      <td>140</td>\n      <td>49</td>\n      <td>71</td>\n      <td>13</td>\n      <td>68</td>\n      <td>128</td>\n      <td>25</td>\n    </tr>\n    <tr>\n      <th>1</th>\n      <td>985</td>\n      <td>South</td>\n      <td>Small Market</td>\n      <td>Chamomile</td>\n      <td>Leaves</td>\n      <td>Herbal Tea</td>\n      <td>Louisiana</td>\n      <td>Decaf</td>\n      <td>540</td>\n      <td>80</td>\n      <td>110</td>\n      <td>70</td>\n      <td>190</td>\n      <td>94</td>\n      <td>120</td>\n      <td>31</td>\n      <td>114</td>\n      <td>228</td>\n      <td>43</td>\n    </tr>\n    <tr>\n      <th>2</th>\n      <td>985</td>\n      <td>South</td>\n      <td>Small Market</td>\n      <td>Chamomile</td>\n      <td>Leaves</td>\n      <td>Herbal Tea</td>\n      <td>Louisiana</td>\n      <td>Decaf</td>\n      <td>552</td>\n      <td>90</td>\n      <td>120</td>\n      <td>80</td>\n      <td>210</td>\n      <td>101</td>\n      <td>130</td>\n      <td>33</td>\n      <td>126</td>\n      <td>246</td>\n      <td>45</td>\n    </tr>\n    <tr>\n      <th>3</th>\n      <td>985</td>\n      <td>South</td>\n      <td>Small Market</td>\n      <td>Decaf Irish Cream</td>\n      <td>Beans</td>\n      <td>Coffee</td>\n      <td>Louisiana</td>\n      <td>Decaf</td>\n      <td>851</td>\n      <td>70</td>\n      <td>90</td>\n      <td>80</td>\n      <td>160</td>\n      <td>48</td>\n      <td>70</td>\n      <td>13</td>\n      <td>67</td>\n      <td>126</td>\n      <td>25</td>\n    </tr>\n    <tr>\n      <th>4</th>\n      <td>985</td>\n      <td>South</td>\n      <td>Small Market</td>\n      <td>Lemon</td>\n      <td>Leaves</td>\n      <td>Herbal Tea</td>\n      <td>Louisiana</td>\n      <td>Decaf</td>\n      <td>599</td>\n      <td>60</td>\n      <td>80</td>\n      <td>30</td>\n      <td>140</td>\n      <td>67</td>\n      <td>83</td>\n      <td>25</td>\n      <td>37</td>\n      <td>160</td>\n      <td>58</td>\n    </tr>\n  </tbody>\n</table>\n</div>"
     },
     "execution_count": 48,
     "metadata": {},
     "output_type": "execute_result"
    }
   ],
   "source": [
    "df = pd.read_csv('coffee-chain.csv')\n",
    "df.head()"
   ]
  },
  {
   "cell_type": "markdown",
   "metadata": {},
   "source": [
    "Let's get the subset of the dataframe we need."
   ]
  },
  {
   "cell_type": "code",
   "execution_count": 49,
   "metadata": {},
   "outputs": [
    {
     "data": {
      "text/plain": "   Area Code Market   Market Size            Product Product Line  \\\n0        985  South  Small Market          Colombian        Beans   \n1        985  South  Small Market          Chamomile       Leaves   \n2        985  South  Small Market          Chamomile       Leaves   \n3        985  South  Small Market  Decaf Irish Cream        Beans   \n4        985  South  Small Market              Lemon       Leaves   \n\n  Product Type      State     Type  Profit  Total Expenses  \n0       Coffee  Louisiana  Regular      68              25  \n1   Herbal Tea  Louisiana    Decaf     114              43  \n2   Herbal Tea  Louisiana    Decaf     126              45  \n3       Coffee  Louisiana    Decaf      67              25  \n4   Herbal Tea  Louisiana    Decaf      37              58  ",
      "text/html": "<div>\n<style scoped>\n    .dataframe tbody tr th:only-of-type {\n        vertical-align: middle;\n    }\n\n    .dataframe tbody tr th {\n        vertical-align: top;\n    }\n\n    .dataframe thead th {\n        text-align: right;\n    }\n</style>\n<table border=\"1\" class=\"dataframe\">\n  <thead>\n    <tr style=\"text-align: right;\">\n      <th></th>\n      <th>Area Code</th>\n      <th>Market</th>\n      <th>Market Size</th>\n      <th>Product</th>\n      <th>Product Line</th>\n      <th>Product Type</th>\n      <th>State</th>\n      <th>Type</th>\n      <th>Profit</th>\n      <th>Total Expenses</th>\n    </tr>\n  </thead>\n  <tbody>\n    <tr>\n      <th>0</th>\n      <td>985</td>\n      <td>South</td>\n      <td>Small Market</td>\n      <td>Colombian</td>\n      <td>Beans</td>\n      <td>Coffee</td>\n      <td>Louisiana</td>\n      <td>Regular</td>\n      <td>68</td>\n      <td>25</td>\n    </tr>\n    <tr>\n      <th>1</th>\n      <td>985</td>\n      <td>South</td>\n      <td>Small Market</td>\n      <td>Chamomile</td>\n      <td>Leaves</td>\n      <td>Herbal Tea</td>\n      <td>Louisiana</td>\n      <td>Decaf</td>\n      <td>114</td>\n      <td>43</td>\n    </tr>\n    <tr>\n      <th>2</th>\n      <td>985</td>\n      <td>South</td>\n      <td>Small Market</td>\n      <td>Chamomile</td>\n      <td>Leaves</td>\n      <td>Herbal Tea</td>\n      <td>Louisiana</td>\n      <td>Decaf</td>\n      <td>126</td>\n      <td>45</td>\n    </tr>\n    <tr>\n      <th>3</th>\n      <td>985</td>\n      <td>South</td>\n      <td>Small Market</td>\n      <td>Decaf Irish Cream</td>\n      <td>Beans</td>\n      <td>Coffee</td>\n      <td>Louisiana</td>\n      <td>Decaf</td>\n      <td>67</td>\n      <td>25</td>\n    </tr>\n    <tr>\n      <th>4</th>\n      <td>985</td>\n      <td>South</td>\n      <td>Small Market</td>\n      <td>Lemon</td>\n      <td>Leaves</td>\n      <td>Herbal Tea</td>\n      <td>Louisiana</td>\n      <td>Decaf</td>\n      <td>37</td>\n      <td>58</td>\n    </tr>\n  </tbody>\n</table>\n</div>"
     },
     "execution_count": 49,
     "metadata": {},
     "output_type": "execute_result"
    }
   ],
   "source": [
    "df_small = df[['Area Code','Market', 'Market Size', 'Product', 'Product Line', 'Product Type', 'State', 'Type', 'Profit','Total Expenses']].copy()\n",
    "df_small.head()"
   ]
  },
  {
   "cell_type": "markdown",
   "metadata": {},
   "source": [
    "## Slicing & Indexing\n",
    "What we saw above was slicing. Slicing uses the [] operator selects a set of rows and/or columns from a DataFrame."
   ]
  },
  {
   "cell_type": "markdown",
   "metadata": {},
   "source": [
    "**Slicing rows**\n",
    "\n",
    "To slice out a set of rows, you use the following syntax: data[start:stop]. When slicing in pandas the start bound is included in the output. "
   ]
  },
  {
   "cell_type": "code",
   "execution_count": 50,
   "metadata": {},
   "outputs": [
    {
     "data": {
      "text/plain": "   Area Code Market   Market Size    Product Product Line Product Type  \\\n0        985  South  Small Market  Colombian        Beans       Coffee   \n1        985  South  Small Market  Chamomile       Leaves   Herbal Tea   \n2        985  South  Small Market  Chamomile       Leaves   Herbal Tea   \n\n       State     Type  Profit  Total Expenses  \n0  Louisiana  Regular      68              25  \n1  Louisiana    Decaf     114              43  \n2  Louisiana    Decaf     126              45  ",
      "text/html": "<div>\n<style scoped>\n    .dataframe tbody tr th:only-of-type {\n        vertical-align: middle;\n    }\n\n    .dataframe tbody tr th {\n        vertical-align: top;\n    }\n\n    .dataframe thead th {\n        text-align: right;\n    }\n</style>\n<table border=\"1\" class=\"dataframe\">\n  <thead>\n    <tr style=\"text-align: right;\">\n      <th></th>\n      <th>Area Code</th>\n      <th>Market</th>\n      <th>Market Size</th>\n      <th>Product</th>\n      <th>Product Line</th>\n      <th>Product Type</th>\n      <th>State</th>\n      <th>Type</th>\n      <th>Profit</th>\n      <th>Total Expenses</th>\n    </tr>\n  </thead>\n  <tbody>\n    <tr>\n      <th>0</th>\n      <td>985</td>\n      <td>South</td>\n      <td>Small Market</td>\n      <td>Colombian</td>\n      <td>Beans</td>\n      <td>Coffee</td>\n      <td>Louisiana</td>\n      <td>Regular</td>\n      <td>68</td>\n      <td>25</td>\n    </tr>\n    <tr>\n      <th>1</th>\n      <td>985</td>\n      <td>South</td>\n      <td>Small Market</td>\n      <td>Chamomile</td>\n      <td>Leaves</td>\n      <td>Herbal Tea</td>\n      <td>Louisiana</td>\n      <td>Decaf</td>\n      <td>114</td>\n      <td>43</td>\n    </tr>\n    <tr>\n      <th>2</th>\n      <td>985</td>\n      <td>South</td>\n      <td>Small Market</td>\n      <td>Chamomile</td>\n      <td>Leaves</td>\n      <td>Herbal Tea</td>\n      <td>Louisiana</td>\n      <td>Decaf</td>\n      <td>126</td>\n      <td>45</td>\n    </tr>\n  </tbody>\n</table>\n</div>"
     },
     "execution_count": 50,
     "metadata": {},
     "output_type": "execute_result"
    }
   ],
   "source": [
    "df_small[0:3]"
   ]
  },
  {
   "cell_type": "markdown",
   "metadata": {},
   "source": [
    "**Slicing vs Copying**\n",
    "\n",
    "We might have thought that we were creating a fresh copy of df_small when we did slicing. However the statement y = x doesn’t create a copy of our DataFrame. It creates a new variable y that refers to the same object x refers to. This means that there is only one object (the DataFrame), and both x and y refer to it. To create a fresh copy of the DataFrame you can use the syntax y=x.copy(). We will see the effect of slicing but not copying in later steps. \n",
    "\n",
    "** Indexing **\n",
    "\n",
    "We can select specific ranges of our data in both the row and column directions using either label or integer-based indexing.\n",
    "\n",
    "* loc: indexing via labels or integers or mixed. Referemces rows uning the index.\n",
    "* iloc: indexing via integers only. References rows using 0-based numbering.\n",
    "\n",
    "To select a subset of rows AND columns from our DataFrame, we can use the iloc method. For example, "
   ]
  },
  {
   "cell_type": "code",
   "execution_count": 51,
   "metadata": {},
   "outputs": [
    {
     "data": {
      "text/plain": "  Market   Market Size            Product\n0  South  Small Market          Colombian\n1  South  Small Market          Chamomile\n2  South  Small Market          Chamomile\n3  South  Small Market  Decaf Irish Cream",
      "text/html": "<div>\n<style scoped>\n    .dataframe tbody tr th:only-of-type {\n        vertical-align: middle;\n    }\n\n    .dataframe tbody tr th {\n        vertical-align: top;\n    }\n\n    .dataframe thead th {\n        text-align: right;\n    }\n</style>\n<table border=\"1\" class=\"dataframe\">\n  <thead>\n    <tr style=\"text-align: right;\">\n      <th></th>\n      <th>Market</th>\n      <th>Market Size</th>\n      <th>Product</th>\n    </tr>\n  </thead>\n  <tbody>\n    <tr>\n      <th>0</th>\n      <td>South</td>\n      <td>Small Market</td>\n      <td>Colombian</td>\n    </tr>\n    <tr>\n      <th>1</th>\n      <td>South</td>\n      <td>Small Market</td>\n      <td>Chamomile</td>\n    </tr>\n    <tr>\n      <th>2</th>\n      <td>South</td>\n      <td>Small Market</td>\n      <td>Chamomile</td>\n    </tr>\n    <tr>\n      <th>3</th>\n      <td>South</td>\n      <td>Small Market</td>\n      <td>Decaf Irish Cream</td>\n    </tr>\n  </tbody>\n</table>\n</div>"
     },
     "execution_count": 51,
     "metadata": {},
     "output_type": "execute_result"
    }
   ],
   "source": [
    "df_small.loc[0:3, 'Market': 'Product']"
   ]
  },
  {
   "cell_type": "code",
   "execution_count": 52,
   "metadata": {},
   "outputs": [
    {
     "data": {
      "text/plain": "  Market   Market Size            Product\n0  South  Small Market          Colombian\n1  South  Small Market          Chamomile\n2  South  Small Market          Chamomile\n3  South  Small Market  Decaf Irish Cream",
      "text/html": "<div>\n<style scoped>\n    .dataframe tbody tr th:only-of-type {\n        vertical-align: middle;\n    }\n\n    .dataframe tbody tr th {\n        vertical-align: top;\n    }\n\n    .dataframe thead th {\n        text-align: right;\n    }\n</style>\n<table border=\"1\" class=\"dataframe\">\n  <thead>\n    <tr style=\"text-align: right;\">\n      <th></th>\n      <th>Market</th>\n      <th>Market Size</th>\n      <th>Product</th>\n    </tr>\n  </thead>\n  <tbody>\n    <tr>\n      <th>0</th>\n      <td>South</td>\n      <td>Small Market</td>\n      <td>Colombian</td>\n    </tr>\n    <tr>\n      <th>1</th>\n      <td>South</td>\n      <td>Small Market</td>\n      <td>Chamomile</td>\n    </tr>\n    <tr>\n      <th>2</th>\n      <td>South</td>\n      <td>Small Market</td>\n      <td>Chamomile</td>\n    </tr>\n    <tr>\n      <th>3</th>\n      <td>South</td>\n      <td>Small Market</td>\n      <td>Decaf Irish Cream</td>\n    </tr>\n  </tbody>\n</table>\n</div>"
     },
     "execution_count": 52,
     "metadata": {},
     "output_type": "execute_result"
    }
   ],
   "source": [
    "df_small.iloc[0:4, 1:4]"
   ]
  },
  {
   "cell_type": "markdown",
   "metadata": {},
   "source": [
    "Notice that indexing in loc is inclusive whereas indexing in iloc is exlusive of the end index"
   ]
  },
  {
   "cell_type": "markdown",
   "metadata": {},
   "source": [
    "## Statistical Techniques\n",
    "### Cross-tabulation\n",
    "Cross tabultaion computes a frequency table of two or more factors. Let's start by making a cross-tab with two variables first."
   ]
  },
  {
   "cell_type": "code",
   "execution_count": 53,
   "metadata": {},
   "outputs": [
    {
     "data": {
      "text/plain": "Market Size  Major Market  Small Market\nMarket                                 \nCentral               696           648\nEast                  552           336\nSouth                 168           504\nWest                  288          1056",
      "text/html": "<div>\n<style scoped>\n    .dataframe tbody tr th:only-of-type {\n        vertical-align: middle;\n    }\n\n    .dataframe tbody tr th {\n        vertical-align: top;\n    }\n\n    .dataframe thead th {\n        text-align: right;\n    }\n</style>\n<table border=\"1\" class=\"dataframe\">\n  <thead>\n    <tr style=\"text-align: right;\">\n      <th>Market Size</th>\n      <th>Major Market</th>\n      <th>Small Market</th>\n    </tr>\n    <tr>\n      <th>Market</th>\n      <th></th>\n      <th></th>\n    </tr>\n  </thead>\n  <tbody>\n    <tr>\n      <th>Central</th>\n      <td>696</td>\n      <td>648</td>\n    </tr>\n    <tr>\n      <th>East</th>\n      <td>552</td>\n      <td>336</td>\n    </tr>\n    <tr>\n      <th>South</th>\n      <td>168</td>\n      <td>504</td>\n    </tr>\n    <tr>\n      <th>West</th>\n      <td>288</td>\n      <td>1056</td>\n    </tr>\n  </tbody>\n</table>\n</div>"
     },
     "execution_count": 53,
     "metadata": {},
     "output_type": "execute_result"
    }
   ],
   "source": [
    "df_crosstab = pd.crosstab(df_small[\"Market\"],df_small[\"Market Size\"],margins=False)\n",
    "df_crosstab"
   ]
  },
  {
   "cell_type": "markdown",
   "metadata": {},
   "source": [
    "Let'c check the type of the cross-tab"
   ]
  },
  {
   "cell_type": "code",
   "execution_count": 54,
   "metadata": {},
   "outputs": [
    {
     "data": {
      "text/plain": "pandas.core.frame.DataFrame"
     },
     "execution_count": 54,
     "metadata": {},
     "output_type": "execute_result"
    }
   ],
   "source": [
    "type(df_crosstab)"
   ]
  },
  {
   "cell_type": "markdown",
   "metadata": {},
   "source": [
    "Now let's check the value counts of one of our cross-tab's dimensions and see if the totals match?"
   ]
  },
  {
   "cell_type": "code",
   "execution_count": 55,
   "metadata": {},
   "outputs": [
    {
     "data": {
      "text/plain": "Small Market    2544\nMajor Market    1704\nName: Market Size, dtype: int64"
     },
     "execution_count": 55,
     "metadata": {},
     "output_type": "execute_result"
    }
   ],
   "source": [
    "pd.value_counts(df_small['Market Size'])"
   ]
  },
  {
   "cell_type": "markdown",
   "metadata": {},
   "source": [
    "Now let's make a cross-tab with three variables. "
   ]
  },
  {
   "cell_type": "code",
   "execution_count": 56,
   "metadata": {},
   "outputs": [
    {
     "data": {
      "text/plain": "Market            Central                      East                     South  \\\nMarket Size  Major Market Small Market Major Market Small Market Major Market   \nProduct Type                                                                    \nCoffee                192          192           96           72           48   \nEspresso              144          144          144           96           72   \nHerbal Tea            192          144          144           72           48   \nTea                   168          168          168           96            0   \nAll                   696          648          552          336          168   \n\nMarket                            West                All  \nMarket Size  Small Market Major Market Small Market        \nProduct Type                                               \nCoffee                144           72          240  1056  \nEspresso              216           72          288  1176  \nHerbal Tea            144           72          240  1056  \nTea                     0           72          288   960  \nAll                   504          288         1056  4248  ",
      "text/html": "<div>\n<style scoped>\n    .dataframe tbody tr th:only-of-type {\n        vertical-align: middle;\n    }\n\n    .dataframe tbody tr th {\n        vertical-align: top;\n    }\n\n    .dataframe thead tr th {\n        text-align: left;\n    }\n\n    .dataframe thead tr:last-of-type th {\n        text-align: right;\n    }\n</style>\n<table border=\"1\" class=\"dataframe\">\n  <thead>\n    <tr>\n      <th>Market</th>\n      <th colspan=\"2\" halign=\"left\">Central</th>\n      <th colspan=\"2\" halign=\"left\">East</th>\n      <th colspan=\"2\" halign=\"left\">South</th>\n      <th colspan=\"2\" halign=\"left\">West</th>\n      <th>All</th>\n    </tr>\n    <tr>\n      <th>Market Size</th>\n      <th>Major Market</th>\n      <th>Small Market</th>\n      <th>Major Market</th>\n      <th>Small Market</th>\n      <th>Major Market</th>\n      <th>Small Market</th>\n      <th>Major Market</th>\n      <th>Small Market</th>\n      <th></th>\n    </tr>\n    <tr>\n      <th>Product Type</th>\n      <th></th>\n      <th></th>\n      <th></th>\n      <th></th>\n      <th></th>\n      <th></th>\n      <th></th>\n      <th></th>\n      <th></th>\n    </tr>\n  </thead>\n  <tbody>\n    <tr>\n      <th>Coffee</th>\n      <td>192</td>\n      <td>192</td>\n      <td>96</td>\n      <td>72</td>\n      <td>48</td>\n      <td>144</td>\n      <td>72</td>\n      <td>240</td>\n      <td>1056</td>\n    </tr>\n    <tr>\n      <th>Espresso</th>\n      <td>144</td>\n      <td>144</td>\n      <td>144</td>\n      <td>96</td>\n      <td>72</td>\n      <td>216</td>\n      <td>72</td>\n      <td>288</td>\n      <td>1176</td>\n    </tr>\n    <tr>\n      <th>Herbal Tea</th>\n      <td>192</td>\n      <td>144</td>\n      <td>144</td>\n      <td>72</td>\n      <td>48</td>\n      <td>144</td>\n      <td>72</td>\n      <td>240</td>\n      <td>1056</td>\n    </tr>\n    <tr>\n      <th>Tea</th>\n      <td>168</td>\n      <td>168</td>\n      <td>168</td>\n      <td>96</td>\n      <td>0</td>\n      <td>0</td>\n      <td>72</td>\n      <td>288</td>\n      <td>960</td>\n    </tr>\n    <tr>\n      <th>All</th>\n      <td>696</td>\n      <td>648</td>\n      <td>552</td>\n      <td>336</td>\n      <td>168</td>\n      <td>504</td>\n      <td>288</td>\n      <td>1056</td>\n      <td>4248</td>\n    </tr>\n  </tbody>\n</table>\n</div>"
     },
     "execution_count": 56,
     "metadata": {},
     "output_type": "execute_result"
    }
   ],
   "source": [
    "pd.crosstab(df[\"Product Type\"], [df[\"Market\"],df[\"Market Size\"]],margins=True)"
   ]
  },
  {
   "cell_type": "markdown",
   "metadata": {},
   "source": [
    "### Binning Data"
   ]
  },
  {
   "cell_type": "markdown",
   "metadata": {},
   "source": [
    "We can bin our data into categories by specifying bin widths. Let's define equal width bins as shown below. The bins array specifies 4 bins from -800 to -400, -400 to 0, 0 to 400, 400 to 800. We will also specify a group names to assign as labels to each of our bins later. "
   ]
  },
  {
   "cell_type": "code",
   "execution_count": 57,
   "metadata": {
    "collapsed": true
   },
   "outputs": [],
   "source": [
    "bins = [-800,-400, 0, 400, 800]\n",
    "group_names = ['Low', 'Okay', 'Good', 'Great']"
   ]
  },
  {
   "cell_type": "markdown",
   "metadata": {},
   "source": [
    "Now lets bin the data into the categories and add it as a column to the dataframe"
   ]
  },
  {
   "cell_type": "code",
   "execution_count": 58,
   "metadata": {},
   "outputs": [
    {
     "data": {
      "text/plain": "    Area Code Market   Market Size            Product Product Line  \\\n0         985  South  Small Market          Colombian        Beans   \n1         985  South  Small Market          Chamomile       Leaves   \n2         985  South  Small Market          Chamomile       Leaves   \n3         985  South  Small Market  Decaf Irish Cream        Beans   \n4         985  South  Small Market              Lemon       Leaves   \n5         985  South  Small Market  Decaf Irish Cream        Beans   \n6         985  South  Small Market              Lemon       Leaves   \n7         985  South  Small Market          Chamomile       Leaves   \n8         985  South  Small Market        Caffe Mocha        Beans   \n9         985  South  Small Market        Caffe Latte        Beans   \n10        985  South  Small Market        Caffe Latte        Beans   \n11        985  South  Small Market  Decaf Irish Cream        Beans   \n12        985  South  Small Market     Decaf Espresso        Beans   \n13        985  South  Small Market              Lemon       Leaves   \n14        985  South  Small Market     Decaf Espresso        Beans   \n15        985  South  Small Market              Lemon       Leaves   \n16        985  South  Small Market        Caffe Mocha        Beans   \n17        985  South  Small Market        Caffe Latte        Beans   \n18        985  South  Small Market        Caffe Mocha        Beans   \n19        985  South  Small Market     Decaf Espresso        Beans   \n\n   Product Type      State     Type  Profit  Total Expenses Categories  \n0        Coffee  Louisiana  Regular      68              25       Good  \n1    Herbal Tea  Louisiana    Decaf     114              43       Good  \n2    Herbal Tea  Louisiana    Decaf     126              45       Good  \n3        Coffee  Louisiana    Decaf      67              25       Good  \n4    Herbal Tea  Louisiana    Decaf      37              58       Good  \n5        Coffee  Louisiana    Decaf      87              26       Good  \n6    Herbal Tea  Louisiana    Decaf      43              58       Good  \n7    Herbal Tea  Louisiana    Decaf      48              26       Good  \n8      Espresso  Louisiana  Regular      61              35       Good  \n9      Espresso  Louisiana  Regular       4              81       Good  \n10     Espresso  Louisiana  Regular       1              86       Good  \n11       Coffee  Louisiana    Decaf      70              25       Good  \n12     Espresso  Louisiana    Decaf      56              39       Good  \n13   Herbal Tea  Louisiana    Decaf      62              65       Good  \n14     Espresso  Louisiana    Decaf      61              40       Good  \n15   Herbal Tea  Louisiana    Decaf      26              59       Good  \n16     Espresso  Louisiana  Regular      31              35       Good  \n17     Espresso  Louisiana  Regular      -3              79       Okay  \n18     Espresso  Louisiana  Regular      58              41       Good  \n19     Espresso  Louisiana    Decaf      31              36       Good  ",
      "text/html": "<div>\n<style scoped>\n    .dataframe tbody tr th:only-of-type {\n        vertical-align: middle;\n    }\n\n    .dataframe tbody tr th {\n        vertical-align: top;\n    }\n\n    .dataframe thead th {\n        text-align: right;\n    }\n</style>\n<table border=\"1\" class=\"dataframe\">\n  <thead>\n    <tr style=\"text-align: right;\">\n      <th></th>\n      <th>Area Code</th>\n      <th>Market</th>\n      <th>Market Size</th>\n      <th>Product</th>\n      <th>Product Line</th>\n      <th>Product Type</th>\n      <th>State</th>\n      <th>Type</th>\n      <th>Profit</th>\n      <th>Total Expenses</th>\n      <th>Categories</th>\n    </tr>\n  </thead>\n  <tbody>\n    <tr>\n      <th>0</th>\n      <td>985</td>\n      <td>South</td>\n      <td>Small Market</td>\n      <td>Colombian</td>\n      <td>Beans</td>\n      <td>Coffee</td>\n      <td>Louisiana</td>\n      <td>Regular</td>\n      <td>68</td>\n      <td>25</td>\n      <td>Good</td>\n    </tr>\n    <tr>\n      <th>1</th>\n      <td>985</td>\n      <td>South</td>\n      <td>Small Market</td>\n      <td>Chamomile</td>\n      <td>Leaves</td>\n      <td>Herbal Tea</td>\n      <td>Louisiana</td>\n      <td>Decaf</td>\n      <td>114</td>\n      <td>43</td>\n      <td>Good</td>\n    </tr>\n    <tr>\n      <th>2</th>\n      <td>985</td>\n      <td>South</td>\n      <td>Small Market</td>\n      <td>Chamomile</td>\n      <td>Leaves</td>\n      <td>Herbal Tea</td>\n      <td>Louisiana</td>\n      <td>Decaf</td>\n      <td>126</td>\n      <td>45</td>\n      <td>Good</td>\n    </tr>\n    <tr>\n      <th>3</th>\n      <td>985</td>\n      <td>South</td>\n      <td>Small Market</td>\n      <td>Decaf Irish Cream</td>\n      <td>Beans</td>\n      <td>Coffee</td>\n      <td>Louisiana</td>\n      <td>Decaf</td>\n      <td>67</td>\n      <td>25</td>\n      <td>Good</td>\n    </tr>\n    <tr>\n      <th>4</th>\n      <td>985</td>\n      <td>South</td>\n      <td>Small Market</td>\n      <td>Lemon</td>\n      <td>Leaves</td>\n      <td>Herbal Tea</td>\n      <td>Louisiana</td>\n      <td>Decaf</td>\n      <td>37</td>\n      <td>58</td>\n      <td>Good</td>\n    </tr>\n    <tr>\n      <th>5</th>\n      <td>985</td>\n      <td>South</td>\n      <td>Small Market</td>\n      <td>Decaf Irish Cream</td>\n      <td>Beans</td>\n      <td>Coffee</td>\n      <td>Louisiana</td>\n      <td>Decaf</td>\n      <td>87</td>\n      <td>26</td>\n      <td>Good</td>\n    </tr>\n    <tr>\n      <th>6</th>\n      <td>985</td>\n      <td>South</td>\n      <td>Small Market</td>\n      <td>Lemon</td>\n      <td>Leaves</td>\n      <td>Herbal Tea</td>\n      <td>Louisiana</td>\n      <td>Decaf</td>\n      <td>43</td>\n      <td>58</td>\n      <td>Good</td>\n    </tr>\n    <tr>\n      <th>7</th>\n      <td>985</td>\n      <td>South</td>\n      <td>Small Market</td>\n      <td>Chamomile</td>\n      <td>Leaves</td>\n      <td>Herbal Tea</td>\n      <td>Louisiana</td>\n      <td>Decaf</td>\n      <td>48</td>\n      <td>26</td>\n      <td>Good</td>\n    </tr>\n    <tr>\n      <th>8</th>\n      <td>985</td>\n      <td>South</td>\n      <td>Small Market</td>\n      <td>Caffe Mocha</td>\n      <td>Beans</td>\n      <td>Espresso</td>\n      <td>Louisiana</td>\n      <td>Regular</td>\n      <td>61</td>\n      <td>35</td>\n      <td>Good</td>\n    </tr>\n    <tr>\n      <th>9</th>\n      <td>985</td>\n      <td>South</td>\n      <td>Small Market</td>\n      <td>Caffe Latte</td>\n      <td>Beans</td>\n      <td>Espresso</td>\n      <td>Louisiana</td>\n      <td>Regular</td>\n      <td>4</td>\n      <td>81</td>\n      <td>Good</td>\n    </tr>\n    <tr>\n      <th>10</th>\n      <td>985</td>\n      <td>South</td>\n      <td>Small Market</td>\n      <td>Caffe Latte</td>\n      <td>Beans</td>\n      <td>Espresso</td>\n      <td>Louisiana</td>\n      <td>Regular</td>\n      <td>1</td>\n      <td>86</td>\n      <td>Good</td>\n    </tr>\n    <tr>\n      <th>11</th>\n      <td>985</td>\n      <td>South</td>\n      <td>Small Market</td>\n      <td>Decaf Irish Cream</td>\n      <td>Beans</td>\n      <td>Coffee</td>\n      <td>Louisiana</td>\n      <td>Decaf</td>\n      <td>70</td>\n      <td>25</td>\n      <td>Good</td>\n    </tr>\n    <tr>\n      <th>12</th>\n      <td>985</td>\n      <td>South</td>\n      <td>Small Market</td>\n      <td>Decaf Espresso</td>\n      <td>Beans</td>\n      <td>Espresso</td>\n      <td>Louisiana</td>\n      <td>Decaf</td>\n      <td>56</td>\n      <td>39</td>\n      <td>Good</td>\n    </tr>\n    <tr>\n      <th>13</th>\n      <td>985</td>\n      <td>South</td>\n      <td>Small Market</td>\n      <td>Lemon</td>\n      <td>Leaves</td>\n      <td>Herbal Tea</td>\n      <td>Louisiana</td>\n      <td>Decaf</td>\n      <td>62</td>\n      <td>65</td>\n      <td>Good</td>\n    </tr>\n    <tr>\n      <th>14</th>\n      <td>985</td>\n      <td>South</td>\n      <td>Small Market</td>\n      <td>Decaf Espresso</td>\n      <td>Beans</td>\n      <td>Espresso</td>\n      <td>Louisiana</td>\n      <td>Decaf</td>\n      <td>61</td>\n      <td>40</td>\n      <td>Good</td>\n    </tr>\n    <tr>\n      <th>15</th>\n      <td>985</td>\n      <td>South</td>\n      <td>Small Market</td>\n      <td>Lemon</td>\n      <td>Leaves</td>\n      <td>Herbal Tea</td>\n      <td>Louisiana</td>\n      <td>Decaf</td>\n      <td>26</td>\n      <td>59</td>\n      <td>Good</td>\n    </tr>\n    <tr>\n      <th>16</th>\n      <td>985</td>\n      <td>South</td>\n      <td>Small Market</td>\n      <td>Caffe Mocha</td>\n      <td>Beans</td>\n      <td>Espresso</td>\n      <td>Louisiana</td>\n      <td>Regular</td>\n      <td>31</td>\n      <td>35</td>\n      <td>Good</td>\n    </tr>\n    <tr>\n      <th>17</th>\n      <td>985</td>\n      <td>South</td>\n      <td>Small Market</td>\n      <td>Caffe Latte</td>\n      <td>Beans</td>\n      <td>Espresso</td>\n      <td>Louisiana</td>\n      <td>Regular</td>\n      <td>-3</td>\n      <td>79</td>\n      <td>Okay</td>\n    </tr>\n    <tr>\n      <th>18</th>\n      <td>985</td>\n      <td>South</td>\n      <td>Small Market</td>\n      <td>Caffe Mocha</td>\n      <td>Beans</td>\n      <td>Espresso</td>\n      <td>Louisiana</td>\n      <td>Regular</td>\n      <td>58</td>\n      <td>41</td>\n      <td>Good</td>\n    </tr>\n    <tr>\n      <th>19</th>\n      <td>985</td>\n      <td>South</td>\n      <td>Small Market</td>\n      <td>Decaf Espresso</td>\n      <td>Beans</td>\n      <td>Espresso</td>\n      <td>Louisiana</td>\n      <td>Decaf</td>\n      <td>31</td>\n      <td>36</td>\n      <td>Good</td>\n    </tr>\n  </tbody>\n</table>\n</div>"
     },
     "execution_count": 58,
     "metadata": {},
     "output_type": "execute_result"
    }
   ],
   "source": [
    "df_small['Categories'] = pd.cut(df_small['Profit'], bins=bins, labels=group_names)\n",
    "df_small.head(20)"
   ]
  },
  {
   "cell_type": "markdown",
   "metadata": {},
   "source": [
    "To find out the value counts for each bin of category, we can use value_counts like we did earlier. "
   ]
  },
  {
   "cell_type": "code",
   "execution_count": 59,
   "metadata": {},
   "outputs": [
    {
     "data": {
      "text/plain": "Good     3648\nOkay      544\nGreat      40\nLow        16\nName: Categories, dtype: int64"
     },
     "execution_count": 59,
     "metadata": {},
     "output_type": "execute_result"
    }
   ],
   "source": [
    "pd.value_counts(df_small['Categories'])"
   ]
  },
  {
   "cell_type": "markdown",
   "metadata": {},
   "source": [
    "The result is a Series with 4 values, one for every category. Notice that when printing it, we get both the category name and the value for each category. This is because the series isn't just a list of values. Every value is matched to a category, so its more like an ordered dictionary than a list. The category is the index to the values. If you just selected a column from the original dataframe you would get a Series with the row id as the index, so you would get value 0, value 1 and so on. Using operations like value_counts or group_by, you get series and dataframes that use the groups as the index."
   ]
  },
  {
   "cell_type": "markdown",
   "metadata": {},
   "source": [
    "### Quantiles"
   ]
  },
  {
   "cell_type": "markdown",
   "metadata": {},
   "source": [
    "Pandas allows an easy way of computing percentiles or quartiles. Let's first specify the quantiles we want to calculate,"
   ]
  },
  {
   "cell_type": "code",
   "execution_count": 60,
   "metadata": {
    "collapsed": true
   },
   "outputs": [],
   "source": [
    "quants = [0.0, 0.05, 0.25, 0.5, 0.75, 0.95, 1.0]"
   ]
  },
  {
   "cell_type": "markdown",
   "metadata": {},
   "source": [
    "To compute the quantiles of Profit and Total Expenses, "
   ]
  },
  {
   "cell_type": "code",
   "execution_count": 61,
   "metadata": {},
   "outputs": [
    {
     "data": {
      "text/plain": "      Profit  Total Expenses\n0.00  -638.0            10.0\n0.05   -13.0            17.0\n0.25    17.0            33.0\n0.50    40.0            46.0\n0.75    92.0            65.0\n0.95   232.0           125.0\n1.00   778.0           190.0",
      "text/html": "<div>\n<style scoped>\n    .dataframe tbody tr th:only-of-type {\n        vertical-align: middle;\n    }\n\n    .dataframe tbody tr th {\n        vertical-align: top;\n    }\n\n    .dataframe thead th {\n        text-align: right;\n    }\n</style>\n<table border=\"1\" class=\"dataframe\">\n  <thead>\n    <tr style=\"text-align: right;\">\n      <th></th>\n      <th>Profit</th>\n      <th>Total Expenses</th>\n    </tr>\n  </thead>\n  <tbody>\n    <tr>\n      <th>0.00</th>\n      <td>-638.0</td>\n      <td>10.0</td>\n    </tr>\n    <tr>\n      <th>0.05</th>\n      <td>-13.0</td>\n      <td>17.0</td>\n    </tr>\n    <tr>\n      <th>0.25</th>\n      <td>17.0</td>\n      <td>33.0</td>\n    </tr>\n    <tr>\n      <th>0.50</th>\n      <td>40.0</td>\n      <td>46.0</td>\n    </tr>\n    <tr>\n      <th>0.75</th>\n      <td>92.0</td>\n      <td>65.0</td>\n    </tr>\n    <tr>\n      <th>0.95</th>\n      <td>232.0</td>\n      <td>125.0</td>\n    </tr>\n    <tr>\n      <th>1.00</th>\n      <td>778.0</td>\n      <td>190.0</td>\n    </tr>\n  </tbody>\n</table>\n</div>"
     },
     "execution_count": 61,
     "metadata": {},
     "output_type": "execute_result"
    }
   ],
   "source": [
    "q = df_small[['Profit','Total Expenses']].quantile(quants)\n",
    "q"
   ]
  },
  {
   "cell_type": "markdown",
   "metadata": {},
   "source": [
    "The result here is a dataframe that uses the quantiles as the index of the rows."
   ]
  },
  {
   "cell_type": "markdown",
   "metadata": {},
   "source": [
    "### Groupby & Apply"
   ]
  },
  {
   "cell_type": "markdown",
   "metadata": {},
   "source": [
    "Groupby allows grouping or clustering the dataframe by a particular categorical attribute. \n",
    "Apply can be used to apply a function to a group or the entire dataframe. Let's first define the function that we want to apply,"
   ]
  },
  {
   "cell_type": "code",
   "execution_count": 62,
   "metadata": {
    "collapsed": true
   },
   "outputs": [],
   "source": [
    "def get_stats(group):\n",
    "    return {'min': group.min(), 'max': group.max(), 'count': group.count(), 'mean': group.mean(), 'sum': group.sum()}"
   ]
  },
  {
   "cell_type": "markdown",
   "metadata": {},
   "source": [
    "This can be applied to a Dataframe or a grouping of the dataframe as shown below"
   ]
  },
  {
   "cell_type": "code",
   "execution_count": 63,
   "metadata": {},
   "outputs": [
    {
     "data": {
      "text/plain": "Categories       \nLow         min        -638.000000\n            max        -404.000000\n            count        16.000000\n            mean       -510.562500\n            sum       -8169.000000\nOkay        min        -392.000000\n            max           0.000000\n            count       544.000000\n            mean        -45.630515\n            sum      -24823.000000\nGood        min           1.000000\n            max         397.000000\n            count      3648.000000\n            mean         74.514529\n            sum      271829.000000\nGreat       min         402.000000\n            max         778.000000\n            count        40.000000\n            mean        517.650000\n            sum       20706.000000\nName: Profit, dtype: float64"
     },
     "execution_count": 63,
     "metadata": {},
     "output_type": "execute_result"
    }
   ],
   "source": [
    "df_group = df_small['Profit'].groupby(df_small['Categories']).apply(get_stats)\n",
    "df_group"
   ]
  },
  {
   "cell_type": "markdown",
   "metadata": {},
   "source": [
    "\n",
    "The result is a compound Series that has the category as the index, and each value is a dictionary. We can unwind those dictionaries and create a dataframe by using the unstack() function as shown below. "
   ]
  },
  {
   "cell_type": "code",
   "execution_count": 64,
   "metadata": {
    "scrolled": false
   },
   "outputs": [
    {
     "data": {
      "text/plain": "              min    max   count        mean       sum\nCategories                                            \nLow        -638.0 -404.0    16.0 -510.562500   -8169.0\nOkay       -392.0    0.0   544.0  -45.630515  -24823.0\nGood          1.0  397.0  3648.0   74.514529  271829.0\nGreat       402.0  778.0    40.0  517.650000   20706.0",
      "text/html": "<div>\n<style scoped>\n    .dataframe tbody tr th:only-of-type {\n        vertical-align: middle;\n    }\n\n    .dataframe tbody tr th {\n        vertical-align: top;\n    }\n\n    .dataframe thead th {\n        text-align: right;\n    }\n</style>\n<table border=\"1\" class=\"dataframe\">\n  <thead>\n    <tr style=\"text-align: right;\">\n      <th></th>\n      <th>min</th>\n      <th>max</th>\n      <th>count</th>\n      <th>mean</th>\n      <th>sum</th>\n    </tr>\n    <tr>\n      <th>Categories</th>\n      <th></th>\n      <th></th>\n      <th></th>\n      <th></th>\n      <th></th>\n    </tr>\n  </thead>\n  <tbody>\n    <tr>\n      <th>Low</th>\n      <td>-638.0</td>\n      <td>-404.0</td>\n      <td>16.0</td>\n      <td>-510.562500</td>\n      <td>-8169.0</td>\n    </tr>\n    <tr>\n      <th>Okay</th>\n      <td>-392.0</td>\n      <td>0.0</td>\n      <td>544.0</td>\n      <td>-45.630515</td>\n      <td>-24823.0</td>\n    </tr>\n    <tr>\n      <th>Good</th>\n      <td>1.0</td>\n      <td>397.0</td>\n      <td>3648.0</td>\n      <td>74.514529</td>\n      <td>271829.0</td>\n    </tr>\n    <tr>\n      <th>Great</th>\n      <td>402.0</td>\n      <td>778.0</td>\n      <td>40.0</td>\n      <td>517.650000</td>\n      <td>20706.0</td>\n    </tr>\n  </tbody>\n</table>\n</div>"
     },
     "execution_count": 64,
     "metadata": {},
     "output_type": "execute_result"
    }
   ],
   "source": [
    "df_group.unstack()"
   ]
  },
  {
   "cell_type": "markdown",
   "metadata": {},
   "source": [
    "### Sorting"
   ]
  },
  {
   "cell_type": "markdown",
   "metadata": {},
   "source": [
    "Pandas allows nested sorting over mutliple columns of the Dataframe easily as shown below. "
   ]
  },
  {
   "cell_type": "code",
   "execution_count": 65,
   "metadata": {
    "scrolled": false
   },
   "outputs": [
    {
     "data": {
      "text/plain": "      Total Expenses  Profit\n959              190      49\n2334             189      50\n2352             189    -284\n3432             181    -266\n966              180      45\n2224             180      45\n632              178     370\n1429             178     370\n631              178     368\n1605             178     368\n753              177     357\n1622             177     357\n1454             177      68\n285              176      69\n4086             176    -392\n3420             168    -367\n1461             167      62\n3278             167      62\n1269             166     511\n1596             166     511",
      "text/html": "<div>\n<style scoped>\n    .dataframe tbody tr th:only-of-type {\n        vertical-align: middle;\n    }\n\n    .dataframe tbody tr th {\n        vertical-align: top;\n    }\n\n    .dataframe thead th {\n        text-align: right;\n    }\n</style>\n<table border=\"1\" class=\"dataframe\">\n  <thead>\n    <tr style=\"text-align: right;\">\n      <th></th>\n      <th>Total Expenses</th>\n      <th>Profit</th>\n    </tr>\n  </thead>\n  <tbody>\n    <tr>\n      <th>959</th>\n      <td>190</td>\n      <td>49</td>\n    </tr>\n    <tr>\n      <th>2334</th>\n      <td>189</td>\n      <td>50</td>\n    </tr>\n    <tr>\n      <th>2352</th>\n      <td>189</td>\n      <td>-284</td>\n    </tr>\n    <tr>\n      <th>3432</th>\n      <td>181</td>\n      <td>-266</td>\n    </tr>\n    <tr>\n      <th>966</th>\n      <td>180</td>\n      <td>45</td>\n    </tr>\n    <tr>\n      <th>2224</th>\n      <td>180</td>\n      <td>45</td>\n    </tr>\n    <tr>\n      <th>632</th>\n      <td>178</td>\n      <td>370</td>\n    </tr>\n    <tr>\n      <th>1429</th>\n      <td>178</td>\n      <td>370</td>\n    </tr>\n    <tr>\n      <th>631</th>\n      <td>178</td>\n      <td>368</td>\n    </tr>\n    <tr>\n      <th>1605</th>\n      <td>178</td>\n      <td>368</td>\n    </tr>\n    <tr>\n      <th>753</th>\n      <td>177</td>\n      <td>357</td>\n    </tr>\n    <tr>\n      <th>1622</th>\n      <td>177</td>\n      <td>357</td>\n    </tr>\n    <tr>\n      <th>1454</th>\n      <td>177</td>\n      <td>68</td>\n    </tr>\n    <tr>\n      <th>285</th>\n      <td>176</td>\n      <td>69</td>\n    </tr>\n    <tr>\n      <th>4086</th>\n      <td>176</td>\n      <td>-392</td>\n    </tr>\n    <tr>\n      <th>3420</th>\n      <td>168</td>\n      <td>-367</td>\n    </tr>\n    <tr>\n      <th>1461</th>\n      <td>167</td>\n      <td>62</td>\n    </tr>\n    <tr>\n      <th>3278</th>\n      <td>167</td>\n      <td>62</td>\n    </tr>\n    <tr>\n      <th>1269</th>\n      <td>166</td>\n      <td>511</td>\n    </tr>\n    <tr>\n      <th>1596</th>\n      <td>166</td>\n      <td>511</td>\n    </tr>\n  </tbody>\n</table>\n</div>"
     },
     "execution_count": 65,
     "metadata": {},
     "output_type": "execute_result"
    }
   ],
   "source": [
    "data_sorted = df_small.sort_values(['Total Expenses', 'Profit'], ascending=False)\n",
    "data_sorted[['Total Expenses','Profit']].head(20)"
   ]
  },
  {
   "cell_type": "markdown",
   "metadata": {},
   "source": [
    "## Tasks\n",
    "For your tasks, use the data file bank-data.csv."
   ]
  },
  {
   "cell_type": "markdown",
   "metadata": {},
   "source": [
    "**Task 1**\n",
    "Compute the mean income of males versus females. Return a Series of mean income as the values for all sexes."
   ]
  },
  {
   "cell_type": "code",
   "execution_count": 66,
   "metadata": {
    "collapsed": true
   },
   "outputs": [
    {
     "data": {
      "text/plain": "sex\nFEMALE    27831.368233\nMALE      27216.694200\nName: income, dtype: float64"
     },
     "execution_count": 66,
     "metadata": {},
     "output_type": "execute_result"
    }
   ],
   "source": [
    "import pandas as pd\n",
    "\n",
    "df = pd.read_csv('bank-data.csv')\n",
    "\n",
    "df.groupby('sex')['income'].mean()\n"
   ]
  },
  {
   "cell_type": "markdown",
   "metadata": {},
   "source": [
    "**Task 2**\n",
    "Create a cross-tab of save_acct and mortgage. Include the margins."
   ]
  },
  {
   "cell_type": "code",
   "execution_count": 67,
   "metadata": {
    "collapsed": true
   },
   "outputs": [
    {
     "data": {
      "text/plain": "mortgage   NO  YES  All\nsave_act               \nNO        121   65  186\nYES       270  144  414\nAll       391  209  600",
      "text/html": "<div>\n<style scoped>\n    .dataframe tbody tr th:only-of-type {\n        vertical-align: middle;\n    }\n\n    .dataframe tbody tr th {\n        vertical-align: top;\n    }\n\n    .dataframe thead th {\n        text-align: right;\n    }\n</style>\n<table border=\"1\" class=\"dataframe\">\n  <thead>\n    <tr style=\"text-align: right;\">\n      <th>mortgage</th>\n      <th>NO</th>\n      <th>YES</th>\n      <th>All</th>\n    </tr>\n    <tr>\n      <th>save_act</th>\n      <th></th>\n      <th></th>\n      <th></th>\n    </tr>\n  </thead>\n  <tbody>\n    <tr>\n      <th>NO</th>\n      <td>121</td>\n      <td>65</td>\n      <td>186</td>\n    </tr>\n    <tr>\n      <th>YES</th>\n      <td>270</td>\n      <td>144</td>\n      <td>414</td>\n    </tr>\n    <tr>\n      <th>All</th>\n      <td>391</td>\n      <td>209</td>\n      <td>600</td>\n    </tr>\n  </tbody>\n</table>\n</div>"
     },
     "execution_count": 67,
     "metadata": {},
     "output_type": "execute_result"
    }
   ],
   "source": [
    "pd.crosstab(df[\"save_act\"], df[\"mortgage\"],margins=True)"
   ]
  },
  {
   "cell_type": "markdown",
   "metadata": {},
   "source": [
    "**Task 3**\n",
    "Convert the frequencies in task 2's cross-tab to percentages. Include the margins. (Hint: You can use apply)"
   ]
  },
  {
   "cell_type": "code",
   "execution_count": 68,
   "metadata": {
    "collapsed": true
   },
   "outputs": [
    {
     "data": {
      "text/plain": "mortgage        NO       YES   All\nsave_act                          \nNO        0.201667  0.108333  0.31\nYES       0.450000  0.240000  0.69\nAll       0.651667  0.348333  1.00",
      "text/html": "<div>\n<style scoped>\n    .dataframe tbody tr th:only-of-type {\n        vertical-align: middle;\n    }\n\n    .dataframe tbody tr th {\n        vertical-align: top;\n    }\n\n    .dataframe thead th {\n        text-align: right;\n    }\n</style>\n<table border=\"1\" class=\"dataframe\">\n  <thead>\n    <tr style=\"text-align: right;\">\n      <th>mortgage</th>\n      <th>NO</th>\n      <th>YES</th>\n      <th>All</th>\n    </tr>\n    <tr>\n      <th>save_act</th>\n      <th></th>\n      <th></th>\n      <th></th>\n    </tr>\n  </thead>\n  <tbody>\n    <tr>\n      <th>NO</th>\n      <td>0.201667</td>\n      <td>0.108333</td>\n      <td>0.31</td>\n    </tr>\n    <tr>\n      <th>YES</th>\n      <td>0.450000</td>\n      <td>0.240000</td>\n      <td>0.69</td>\n    </tr>\n    <tr>\n      <th>All</th>\n      <td>0.651667</td>\n      <td>0.348333</td>\n      <td>1.00</td>\n    </tr>\n  </tbody>\n</table>\n</div>"
     },
     "execution_count": 68,
     "metadata": {},
     "output_type": "execute_result"
    }
   ],
   "source": [
    "pd.crosstab(df[\"save_act\"], df[\"mortgage\"], margins=True, normalize='all')"
   ]
  }
 ],
 "metadata": {
  "anaconda-cloud": {},
  "kernelspec": {
   "name": "python3",
   "language": "python",
   "display_name": "Python 3"
  },
  "language_info": {
   "codemirror_mode": {
    "name": "ipython",
    "version": 3
   },
   "file_extension": ".py",
   "mimetype": "text/x-python",
   "name": "python",
   "nbconvert_exporter": "python",
   "pygments_lexer": "ipython3",
   "version": "3.6.3"
  }
 },
 "nbformat": 4,
 "nbformat_minor": 1
}